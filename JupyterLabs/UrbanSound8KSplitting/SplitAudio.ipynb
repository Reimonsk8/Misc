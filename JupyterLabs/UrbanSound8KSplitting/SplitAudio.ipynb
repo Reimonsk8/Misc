{
 "cells": [
  {
   "cell_type": "code",
   "execution_count": 143,
   "metadata": {},
   "outputs": [],
   "source": [
    "import pandas as pd\n",
    "import os\n",
    "\n",
    "from collections import defaultdict\n",
    "import shutil"
   ]
  },
  {
   "cell_type": "code",
   "execution_count": 144,
   "metadata": {},
   "outputs": [],
   "source": [
    "# From https://serv.cusp.nyu.edu/projects/urbansounddataset/urbansound8k.html\n",
    "urban_df = pd.read_csv('UrbanSound8K.csv')"
   ]
  },
  {
   "cell_type": "code",
   "execution_count": 145,
   "metadata": {},
   "outputs": [],
   "source": [
    "# init dict's\n",
    "reference_hash = defaultdict(str)\n",
    "df_to_csv_split_hash = defaultdict(pd.DataFrame)"
   ]
  },
  {
   "cell_type": "code",
   "execution_count": 150,
   "metadata": {},
   "outputs": [],
   "source": [
    "for index, row in urban_df.iterrows():\n",
    "    # separates foreground and background sounds int separate directories\n",
    "    directory = ('foreground' if row['salience'] == 1 else 'background') + '_' + row['class']\n",
    "    \n",
    "    # class of the sound type\n",
    "    class_name = row['slice_file_name']\n",
    "    \n",
    "    # used when moving files from original location to split location\n",
    "    if not file_name in reference_hash:\n",
    "        reference_hash[class_name] = directory\n",
    "        \n",
    "    # create the new direcotries if they don't exist\n",
    "    if not os.path.exists('./audio/split_audio/' + directory):\n",
    "        os.makedirs('./audio/split_audio/' + directory)\n",
    "        \n",
    "    # add row to hashed dataframe\n",
    "    df_to_csv_split_hash[directory] = pd.concat([df_to_csv_split_hash[directory], row.to_frame().T])\n"
   ]
  },
  {
   "cell_type": "code",
   "execution_count": 151,
   "metadata": {},
   "outputs": [],
   "source": [
    "# save data frame as csv for each category\n",
    "for k in df_to_csv_split_hash:\n",
    "    df_to_csv_split_hash[k].to_csv(path_or_buf='./audio/split_audio/' + k + '/' + k + '.csv')\n"
   ]
  },
  {
   "cell_type": "code",
   "execution_count": 152,
   "metadata": {},
   "outputs": [],
   "source": [
    "# init direcotry traversing\n",
    "src = './audio'\n",
    "src_files = os.listdir(src)"
   ]
  },
  {
   "cell_type": "code",
   "execution_count": 155,
   "metadata": {},
   "outputs": [
    {
     "name": "stdout",
     "output_type": "stream",
     "text": [
      "processing: \t ./audio \n",
      "\n",
      "processing: \t ./audio/fold2 \n",
      "\n",
      "processing: \t ./audio/fold5 \n",
      "\n",
      "processing: \t ./audio/fold4 \n",
      "\n",
      "processing: \t ./audio/fold3 \n",
      "\n",
      "processing: \t ./audio/fold8 \n",
      "\n",
      "processing: \t ./audio/fold6 \n",
      "\n",
      "processing: \t ./audio/fold1 \n",
      "\n",
      "processing: \t ./audio/fold7 \n",
      "\n",
      "processing: \t ./audio/fold9 \n",
      "\n",
      "processing: \t ./audio/fold10 \n",
      "\n"
     ]
    }
   ],
   "source": [
    "# traverse original audio file direcotry and copy over to new split direcotires\n",
    "for subdir, dirs, files in os.walk(src):\n",
    "    \n",
    "    if not 'split_audio' in subdir:\n",
    "        print('processing: \\t', subdir,'\\n')\n",
    "        for file in files:\n",
    "            full_file_name = os.path.join(subdir, file)\n",
    "            if full_file_name.endswith('.wav') and not subdir == './audio/split_audio/' + reference_hash[file]: \n",
    "                shutil.copy(full_file_name, './audio/split_audio/' + reference_hash[file])"
   ]
  },
  {
   "cell_type": "code",
   "execution_count": null,
   "metadata": {},
   "outputs": [],
   "source": []
  }
 ],
 "metadata": {
  "kernelspec": {
   "display_name": "Python [conda root]",
   "language": "python",
   "name": "conda-root-py"
  },
  "language_info": {
   "codemirror_mode": {
    "name": "ipython",
    "version": 3
   },
   "file_extension": ".py",
   "mimetype": "text/x-python",
   "name": "python",
   "nbconvert_exporter": "python",
   "pygments_lexer": "ipython3",
   "version": "3.6.3"
  }
 },
 "nbformat": 4,
 "nbformat_minor": 2
}
