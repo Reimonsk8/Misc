{
 "cells": [
  {
   "cell_type": "code",
   "execution_count": 68,
   "metadata": {},
   "outputs": [],
   "source": [
    "import requests\n",
    "import json\n",
    "import sys\n",
    "import os"
   ]
  },
  {
   "cell_type": "code",
   "execution_count": 69,
   "metadata": {},
   "outputs": [
    {
     "name": "stdout",
     "output_type": "stream",
     "text": [
      "Running  /Users/temogen/anaconda/lib/python3.6/site-packages/ipykernel/__main__.py\n",
      "Credentials are missing\n"
     ]
    }
   ],
   "source": [
    "args = sys.argv\n",
    "print(\"Running \", args[0])\n",
    "if len(args) > 2:\n",
    "    print(\"Credentials are missing\")\n",
    "else:\n",
    "    print(\"OK\")"
   ]
  },
  {
   "cell_type": "code",
   "execution_count": 111,
   "metadata": {},
   "outputs": [],
   "source": [
    "def signin(user, password):\n",
    "    #requests.post(data=)\n",
    "    pass"
   ]
  },
  {
   "cell_type": "code",
   "execution_count": 1,
   "metadata": {},
   "outputs": [
    {
     "ename": "SyntaxError",
     "evalue": "invalid syntax (<ipython-input-1-4f3c0f03ae73>, line 1)",
     "output_type": "error",
     "traceback": [
      "\u001b[0;36m  File \u001b[0;32m\"<ipython-input-1-4f3c0f03ae73>\"\u001b[0;36m, line \u001b[0;32m1\u001b[0m\n\u001b[0;31m    const execute = 'execute'\u001b[0m\n\u001b[0m                ^\u001b[0m\n\u001b[0;31mSyntaxError\u001b[0m\u001b[0;31m:\u001b[0m invalid syntax\n"
     ]
    }
   ],
   "source": [
    "const execute = 'execute'\n",
    "given = 'given'\n",
    "expected = 'expected'\n",
    "operation = 'operation'\n",
    "directory = './tests/'\n",
    "operations = {'GET': (lambda endpoint, request: print(\"\\tGET\", endpoint, request)), \n",
    "              'POST':(lambda endpoint, request: print(\"\\tPOST\", endpoint, request)), \n",
    "              'PUT': (lambda endpoint, request: print(\"\\tPUT\", endpoint, request)), \n",
    "              'DELETE':(lambda endpoint, request: print(\"\\tDELETE\", endpoint, request))}"
   ]
  },
  {
   "cell_type": "code",
   "execution_count": 129,
   "metadata": {},
   "outputs": [
    {
     "data": {
      "text/plain": [
       "3"
      ]
     },
     "execution_count": 129,
     "metadata": {},
     "output_type": "execute_result"
    }
   ],
   "source": [
    "def run(testFiles):\n",
    "    for testfile in testFiles:\n",
    "        print(\"Executing \", testfile)\n",
    "        with open(directory + testfile) as rawTests:\n",
    "            tests = json.load(rawTests)\n",
    "            executeTests(tests)\n",
    "            \n",
    "def retrieveTestFiles():\n",
    "    testFiles = [posJson for posJson in os.listdir(directory) if posJson.endswith('.json')]\n",
    "    return testFiles\n",
    "\n",
    "def executeTests(tests):\n",
    "    for endpoint in tests[execute]:\n",
    "        for test in tests[execute][endpoint]:\n",
    "            print(test, 'hitting endpoint: ', endpoint)\n",
    "            request = tests[execute][endpoint][test][given]\n",
    "            opt = tests[execute][endpoint][test][operation]\n",
    "            operations[opt.upper()](endpoint, request)\n",
    "        print(test, \"Completed\")\n",
    "\n",
    "            \n",
    "def operationSelector(operation):\n",
    "    \n",
    "    request.post\n",
    "    \n",
    "dict['Applied_poison_rating_bonus'](1, 2)"
   ]
  },
  {
   "cell_type": "code",
   "execution_count": 133,
   "metadata": {},
   "outputs": [
    {
     "name": "stdout",
     "output_type": "stream",
     "text": [
      "Executing  tests1.json\n",
      "test1 hitting endpoint:  localhost:81/api/v1/endpoint\n",
      "\tGET localhost:81/api/v1/endpoint {'item1': 'thing', 'item2': 1}\n",
      "test2 hitting endpoint:  localhost:81/api/v1/endpoint\n",
      "\tPOST localhost:81/api/v1/endpoint {'item1': 'thing', 'item2': 1}\n",
      "test2 Completed\n",
      "test1 hitting endpoint:  localhost:81/api/v1/endpoint2\n",
      "\tPUT localhost:81/api/v1/endpoint2 {'item1': 'thing', 'item2': 1}\n",
      "test2 hitting endpoint:  localhost:81/api/v1/endpoint2\n",
      "\tDELETE localhost:81/api/v1/endpoint2 {'item1': 'thing', 'item2': 1}\n",
      "test2 Completed\n"
     ]
    }
   ],
   "source": [
    "testFiles = retrieveTestFiles()\n",
    "run(testFiles)"
   ]
  },
  {
   "cell_type": "code",
   "execution_count": 131,
   "metadata": {},
   "outputs": [
    {
     "data": {
      "text/plain": [
       "' Example Structure\\n\\n{\\n    \"execute\": {\\n        \"localhost:81/api/v1/endpoint\": {\\n            \"test1\": {\\n                \"operation\": \"GET\",\\n                \"given\": { \"item1\": \"thing\", \"item2\": 1}, \\n                \"expected\":{\"item1\": \"returned\"}\\n            }, \\n            \"test2\": {\\n                \"operation\": \"POST\",\\n                \"given\": {\"item1\": \"thing\", \"item2\": 1}, \\n                \"expected\":{\"item1\": \"returned\"}\\n            }\\n        }, \\n        \"localhost:81/api/v1/endpoint2\": {\\n             \"test1\": {\\n                \"operation\": \"PUT\",\\n                \"given\": { \"item1\": \"thing\", \"item2\": 1}, \\n                \"expected\":{\"item1\": \"returned\"}\\n            }, \\n            \"test2\": {\\n                \"operation\": \"DELETE\",\\n                \"given\": {\"item1\": \"thing\", \"item2\": 1}, \\n                \"expected\":{\"item1\": \"returned\"}\\n            }\\n        }\\n    }, \\n    \"skip\": {\\n        \"localhost:81/api/v1/endpoint3\": {\\n            \"test1\": {\\n                \"operation\": \"GET\",\\n                \"given\": { \"item1\": \"thing\", \"item2\": 1}, \\n                \"expected\":{\"item1\": \"returned\"}\\n            }, \\n            \"test2\": {\\n                \"operation\": \"POST\",\\n                \"given\": {\"item1\": \"thing\", \"item2\": 1}, \\n                \"expected\":{\"item1\": \"returned\"}\\n            }\\n        }\\n    }\\n}\\n\\n'"
      ]
     },
     "execution_count": 131,
     "metadata": {},
     "output_type": "execute_result"
    }
   ],
   "source": [
    "''' Example Structure\n",
    "\n",
    "{\n",
    "    \"execute\": {\n",
    "        \"localhost:81/api/v1/endpoint\": {\n",
    "            \"test1\": {\n",
    "                \"operation\": \"GET\",\n",
    "                \"given\": { \"item1\": \"thing\", \"item2\": 1}, \n",
    "                \"expected\":{\"item1\": \"returned\"}\n",
    "            }, \n",
    "            \"test2\": {\n",
    "                \"operation\": \"POST\",\n",
    "                \"given\": {\"item1\": \"thing\", \"item2\": 1}, \n",
    "                \"expected\":{\"item1\": \"returned\"}\n",
    "            }\n",
    "        }, \n",
    "        \"localhost:81/api/v1/endpoint2\": {\n",
    "             \"test1\": {\n",
    "                \"operation\": \"PUT\",\n",
    "                \"given\": { \"item1\": \"thing\", \"item2\": 1}, \n",
    "                \"expected\":{\"item1\": \"returned\"}\n",
    "            }, \n",
    "            \"test2\": {\n",
    "                \"operation\": \"DELETE\",\n",
    "                \"given\": {\"item1\": \"thing\", \"item2\": 1}, \n",
    "                \"expected\":{\"item1\": \"returned\"}\n",
    "            }\n",
    "        }\n",
    "    }, \n",
    "    \"skip\": {\n",
    "        \"localhost:81/api/v1/endpoint3\": {\n",
    "            \"test1\": {\n",
    "                \"operation\": \"GET\",\n",
    "                \"given\": { \"item1\": \"thing\", \"item2\": 1}, \n",
    "                \"expected\":{\"item1\": \"returned\"}\n",
    "            }, \n",
    "            \"test2\": {\n",
    "                \"operation\": \"POST\",\n",
    "                \"given\": {\"item1\": \"thing\", \"item2\": 1}, \n",
    "                \"expected\":{\"item1\": \"returned\"}\n",
    "            }\n",
    "        }\n",
    "    }\n",
    "}\n",
    "\n",
    "'''"
   ]
  },
  {
   "cell_type": "code",
   "execution_count": 132,
   "metadata": {},
   "outputs": [
    {
     "name": "stdout",
     "output_type": "stream",
     "text": [
      "Executing  tests1.json\n",
      "test1 hitting endpoint:  localhost:81/api/v1/endpoint\n",
      "\tGET localhost:81/api/v1/endpoint {'item1': 'thing', 'item2': 1}\n",
      "test2 hitting endpoint:  localhost:81/api/v1/endpoint\n",
      "\tPOST localhost:81/api/v1/endpoint {'item1': 'thing', 'item2': 1}\n",
      "test2 Completed\n",
      "test1 hitting endpoint:  localhost:81/api/v1/endpoint2\n",
      "\tPUT localhost:81/api/v1/endpoint2 {'item1': 'thing', 'item2': 1}\n",
      "test2 hitting endpoint:  localhost:81/api/v1/endpoint2\n",
      "\tDELETE localhost:81/api/v1/endpoint2 {'item1': 'thing', 'item2': 1}\n",
      "test2 Completed\n"
     ]
    }
   ],
   "source": []
  },
  {
   "cell_type": "code",
   "execution_count": null,
   "metadata": {},
   "outputs": [],
   "source": []
  },
  {
   "cell_type": "code",
   "execution_count": null,
   "metadata": {},
   "outputs": [],
   "source": []
  }
 ],
 "metadata": {
  "kernelspec": {
   "display_name": "Python [conda root]",
   "language": "python",
   "name": "conda-root-py"
  },
  "language_info": {
   "codemirror_mode": {
    "name": "ipython",
    "version": 3
   },
   "file_extension": ".py",
   "mimetype": "text/x-python",
   "name": "python",
   "nbconvert_exporter": "python",
   "pygments_lexer": "ipython3",
   "version": "3.6.3"
  }
 },
 "nbformat": 4,
 "nbformat_minor": 2
}
