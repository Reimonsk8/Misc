{
 "cells": [
  {
   "cell_type": "code",
   "execution_count": 71,
   "metadata": {},
   "outputs": [],
   "source": [
    "import requests\n",
    "import json\n",
    "import sys\n",
    "import os"
   ]
  },
  {
   "cell_type": "code",
   "execution_count": 72,
   "metadata": {},
   "outputs": [
    {
     "name": "stdout",
     "output_type": "stream",
     "text": [
      "Running  /Users/temogen/anaconda/lib/python3.6/site-packages/ipykernel/__main__.py\n",
      "{}\n"
     ]
    }
   ],
   "source": [
    "args = sys.argv\n",
    "testScriptName = args[0]\n",
    "authenticate = args[1].lower()\n",
    "\n",
    "print(\"Running \", args[0])\n",
    "\n",
    "# authenticate\n",
    "#if authenticate != 'y' or 'yes':\n",
    "signin()"
   ]
  },
  {
   "cell_type": "code",
   "execution_count": 73,
   "metadata": {},
   "outputs": [
    {
     "name": "stdout",
     "output_type": "stream",
     "text": [
      "{}\n"
     ]
    }
   ],
   "source": [
    "def signin():\n",
    "    with open(authDirectory+authfile) as authFile:\n",
    "        auth = json.load(authFile)\n",
    "        print(auth)\n",
    "        \n",
    "signin()  "
   ]
  },
  {
   "cell_type": "code",
   "execution_count": 78,
   "metadata": {},
   "outputs": [],
   "source": [
    "execute = 'execute'\n",
    "given = 'given'\n",
    "expected = 'expected'\n",
    "operation = 'operation'\n",
    "\n",
    "testDirectory = './tests/'\n",
    "authDirectory = './'\n",
    "\n",
    "authfile = 'signinauth.json'\n",
    "\n",
    "expectedStatusCode = 200;\n",
    "\n",
    "operations = {'GET': (lambda endpoint, request: requests.get(url=endpoint, params=request)), \n",
    "              'POST':(lambda endpoint, request: requests.post(url=endpoint, json=requset)), \n",
    "              'PUT': (lambda endpoint, request: requests.put(url=endpoint, data=request)), \n",
    "              'DELETE':(lambda endpoint, request: requests.delete(url=endpoint, request)), \n",
    "              'OPTIONS':(lambda endpoint, request: requests.options(url=endpoint))}"
   ]
  },
  {
   "cell_type": "code",
   "execution_count": 104,
   "metadata": {},
   "outputs": [],
   "source": [
    "def run(testFiles):\n",
    "    for testfile in testFiles:\n",
    "        print(\"Executing \", testfile)\n",
    "        with open(testDirectory + testfile) as rawTests:\n",
    "            tests = json.load(rawTests)\n",
    "            executeTests(tests)\n",
    "            \n",
    "def retrieveTestFiles():\n",
    "    testFiles = [posJson for posJson in os.listdir(testDirectory) if posJson.endswith('.json')]\n",
    "    return testFiles\n",
    "\n",
    "def executeTests(tests):\n",
    "    for endpoint in tests[execute]:\n",
    "        for test in tests[execute][endpoint]:\n",
    "            print(test, 'hitting endpoint: ', endpoint)\n",
    "            request = tests[execute][endpoint][test][given]\n",
    "            opt = tests[execute][endpoint][test][operation]\n",
    "            response = operations[opt.upper()](endpoint, request).status_code\n",
    "            \n",
    "            print(test, \"Completed\", response, response == 200, '\\n')\n",
    "\n",
    "            \n",
    "def operationSelector(operation):\n",
    "    pass"
   ]
  },
  {
   "cell_type": "code",
   "execution_count": 105,
   "metadata": {},
   "outputs": [
    {
     "name": "stdout",
     "output_type": "stream",
     "text": [
      "Executing  tests1.json\n",
      "test1 hitting endpoint:  https://httpbin.org/get\n",
      "test1 Completed 200 True \n",
      "\n",
      "test2 hitting endpoint:  https://httpbin.org/get\n",
      "test2 Completed 200 True \n",
      "\n",
      "test1 hitting endpoint:  https://httpbin.org/get2\n",
      "test1 Completed 404 False \n",
      "\n",
      "test2 hitting endpoint:  https://httpbin.org/get2\n",
      "test2 Completed 404 False \n",
      "\n"
     ]
    }
   ],
   "source": [
    "testFiles = retrieveTestFiles()\n",
    "run(testFiles)"
   ]
  },
  {
   "cell_type": "code",
   "execution_count": 101,
   "metadata": {},
   "outputs": [
    {
     "data": {
      "text/plain": [
       "' Example Structure\\n\\n{\\n    \"execute\": {\\n        \"<url>:<port?>/<api directory>/<endpoint>\": {\\n            \"<testname>\": {\\n                \"operation\": \"GET\",\\n                \"given\": { \"item1\": \"thing\", \"item2\": 1}, \\n                \"expected\":{\"item1\": \"returned\"}\\n            }, \\n            \"<testname2>\": {\\n                \"operation\": \"POST\",\\n                \"given\": {\"item1\": \"thing\", \"item2\": 1}, \\n                \"expected\":{\"item1\": \"returned\"}\\n            }\\n        }, \\n        \"<url>:<port?>/<api directory>/<endpoint2>\": {\\n             \"<testname1>\": {\\n                \"operation\": \"PUT\",\\n                \"given\": { \"item1\": \"thing\", \"item2\": 1}, \\n                \"expected\":{\"item1\": \"returned\"}\\n            }, \\n            \"<testname2>\": {\\n                \"operation\": \"DELETE\",\\n                \"given\": {\"item1\": \"thing\", \"item2\": 1}, \\n                \"expected\":{\"item1\": \"returned\"}\\n            }\\n        }\\n    }, \\n    \"skip\": {\\n        \"<url>:<port?>/<api directory>/<endpoint3>\": {\\n            \"<testname>\": {\\n                \"operation\": \"GET\",\\n                \"given\": { \"item1\": \"thing\", \"item2\": 1}, \\n                \"expected\":{\"item1\": \"returned\"}\\n            }, \\n            \"<testname2>\": {\\n                \"operation\": \"POST\",\\n                \"given\": {\"item1\": \"thing\", \"item2\": 1}, \\n                \"expected\":{\"item1\": \"returned\"}\\n            }\\n        }\\n    }\\n}\\n\\n'"
      ]
     },
     "execution_count": 101,
     "metadata": {},
     "output_type": "execute_result"
    }
   ],
   "source": [
    "''' Example Structure\n",
    "\n",
    "{\n",
    "    \"execute\": {\n",
    "        \"<url>:<port?>/<api directory>/<endpoint>\": {\n",
    "            \"<testname>\": {\n",
    "                \"operation\": \"GET\",\n",
    "                \"given\": { \"item1\": \"thing\", \"item2\": 1}, \n",
    "                \"expected\":{\"item1\": \"returned\"}\n",
    "            }, \n",
    "            \"<testname2>\": {\n",
    "                \"operation\": \"POST\",\n",
    "                \"given\": {\"item1\": \"thing\", \"item2\": 1}, \n",
    "                \"expected\":{\"item1\": \"returned\"}\n",
    "            }\n",
    "        }, \n",
    "        \"<url>:<port?>/<api directory>/<endpoint2>\": {\n",
    "             \"<testname1>\": {\n",
    "                \"operation\": \"PUT\",\n",
    "                \"given\": { \"item1\": \"thing\", \"item2\": 1}, \n",
    "                \"expected\":{\"item1\": \"returned\"}\n",
    "            }, \n",
    "            \"<testname2>\": {\n",
    "                \"operation\": \"DELETE\",\n",
    "                \"given\": {\"item1\": \"thing\", \"item2\": 1}, \n",
    "                \"expected\":{\"item1\": \"returned\"}\n",
    "            }\n",
    "        }\n",
    "    }, \n",
    "    \"skip\": {\n",
    "        \"<url>:<port?>/<api directory>/<endpoint3>\": {\n",
    "            \"<testname>\": {\n",
    "                \"operation\": \"GET\",\n",
    "                \"given\": { \"item1\": \"thing\", \"item2\": 1}, \n",
    "                \"expected\":{\"item1\": \"returned\"}\n",
    "            }, \n",
    "            \"<testname2>\": {\n",
    "                \"operation\": \"POST\",\n",
    "                \"given\": {\"item1\": \"thing\", \"item2\": 1}, \n",
    "                \"expected\":{\"item1\": \"returned\"}\n",
    "            }\n",
    "        }\n",
    "    }\n",
    "}\n",
    "\n",
    "'''"
   ]
  },
  {
   "cell_type": "code",
   "execution_count": null,
   "metadata": {},
   "outputs": [],
   "source": []
  },
  {
   "cell_type": "code",
   "execution_count": null,
   "metadata": {},
   "outputs": [],
   "source": []
  },
  {
   "cell_type": "code",
   "execution_count": null,
   "metadata": {},
   "outputs": [],
   "source": []
  }
 ],
 "metadata": {
  "kernelspec": {
   "display_name": "Python [conda root]",
   "language": "python",
   "name": "conda-root-py"
  },
  "language_info": {
   "codemirror_mode": {
    "name": "ipython",
    "version": 3
   },
   "file_extension": ".py",
   "mimetype": "text/x-python",
   "name": "python",
   "nbconvert_exporter": "python",
   "pygments_lexer": "ipython3",
   "version": "3.6.3"
  }
 },
 "nbformat": 4,
 "nbformat_minor": 2
}
