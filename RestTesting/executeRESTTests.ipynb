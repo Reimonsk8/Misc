{
 "cells": [
  {
   "cell_type": "code",
   "execution_count": 228,
   "metadata": {},
   "outputs": [],
   "source": [
    "import requests\n",
    "import json\n",
    "import sys\n",
    "import os\n",
    "\n",
    "import asyncio\n",
    "import aiofiles\n",
    "import aiohttp"
   ]
  },
  {
   "cell_type": "code",
   "execution_count": 247,
   "metadata": {},
   "outputs": [
    {
     "name": "stdout",
     "output_type": "stream",
     "text": [
      "Running  /Users/temogen/anaconda/lib/python3.6/site-packages/ipykernel/__main__.py\n",
      "{\n",
      "  \"args\": {}, \n",
      "  \"data\": \"\", \n",
      "  \"files\": {}, \n",
      "  \"form\": {\n",
      "    \"password\": \"/Users/temogen/Library/Jupyter/runtime/kernel-13c927e2-d47f-425c-af83-fadc0e55b45b.json\", \n",
      "    \"username\": \"-f\"\n",
      "  }, \n",
      "  \"headers\": {\n",
      "    \"Accept\": \"*/*\", \n",
      "    \"Accept-Encoding\": \"gzip, deflate\", \n",
      "    \"Connection\": \"close\", \n",
      "    \"Content-Length\": \"120\", \n",
      "    \"Content-Type\": \"application/x-www-form-urlencoded\", \n",
      "    \"Host\": \"httpbin.org\", \n",
      "    \"User-Agent\": \"python-requests/2.18.4\"\n",
      "  }, \n",
      "  \"json\": null, \n",
      "  \"origin\": \"73.51.189.184\", \n",
      "  \"url\": \"https://httpbin.org/post\"\n",
      "}\n",
      "\n",
      "{\n",
      "  \"args\": {}, \n",
      "  \"headers\": {\n",
      "    \"Accept\": \"*/*\", \n",
      "    \"Accept-Encoding\": \"gzip, deflate\", \n",
      "    \"Connection\": \"close\", \n",
      "    \"Host\": \"httpbin.org\", \n",
      "    \"User-Agent\": \"python-requests/2.18.4\"\n",
      "  }, \n",
      "  \"origin\": \"73.51.189.184\", \n",
      "  \"url\": \"https://httpbin.org/get\"\n",
      "}\n",
      "\n"
     ]
    }
   ],
   "source": [
    "args = sys.argv\n",
    "testScriptName = args[0]\n",
    "\n",
    "print(\"Running \", args[0])\n",
    "\n",
    "username = args[1] if len(args) > 1 else \"\"\n",
    "password = args[2] if len(args) > 2 else \"\"\n",
    "\n",
    "# authenticate\n",
    "signin(username, password)"
   ]
  },
  {
   "cell_type": "code",
   "execution_count": 246,
   "metadata": {},
   "outputs": [],
   "source": [
    "def signin(username, password):\n",
    "    payload = {\n",
    "        'username': username,\n",
    "        'password': password\n",
    "    }\n",
    "\n",
    "    with requests.Session() as s:\n",
    "        p = s.post('https://httpbin.org/post', data=payload)\n",
    "        print(p.text)\n",
    "\n",
    "        r = s.get('https://httpbin.org/get')\n",
    "        print(r.text)"
   ]
  },
  {
   "cell_type": "code",
   "execution_count": 215,
   "metadata": {},
   "outputs": [],
   "source": [
    "execute = 'execute'\n",
    "given = 'given'\n",
    "expected = 'expected'\n",
    "operation = 'operation'\n",
    "\n",
    "testDirectory = './tests/'\n",
    "authDirectory = './'\n",
    "\n",
    "authfile = 'signinauth.json'\n",
    "\n",
    "operations = {'GET': (lambda endpoint, request: requests.get(url=endpoint, params=request)), \n",
    "              'POST':(lambda endpoint, request: requests.post(url=endpoint, data=request)), \n",
    "              'PUT': (lambda endpoint, request: requests.put(url=endpoint, data=request)), \n",
    "              'DELETE':(lambda endpoint, request: requests.delete(url=endpoint, data=request)),\n",
    "              'OPTIONS':(lambda endpoint, request: requests.options(url=endpoint))}"
   ]
  },
  {
   "cell_type": "code",
   "execution_count": 225,
   "metadata": {},
   "outputs": [],
   "source": [
    "def run(testFiles):\n",
    "    for testfile in testFiles:\n",
    "        print(newTestingFile + \"Executing \", testfile + endcomment)\n",
    "        with open(testDirectory + testfile) as rawTests:\n",
    "            tests = json.load(rawTests)\n",
    "            executeTests(tests)\n",
    "            \n",
    "def retrieveTestFiles():\n",
    "    testFiles = [posJson for posJson in os.listdir(testDirectory) if posJson.endswith('.json')]\n",
    "    \n",
    "    return testFiles\n",
    "\n",
    "def executeTests(tests):\n",
    "    for endpoint in tests[execute]:\n",
    "        for test in tests[execute][endpoint]:\n",
    "            print(test, 'hitting endpoint: ', endpoint)\n",
    "            request = tests[execute][endpoint][test][given]\n",
    "            opt = tests[execute][endpoint][test][operation]\n",
    "            response = operations[opt.upper()](endpoint, request).status_code\n",
    "            expectedCode = tests[execute][endpoint][test][expected]\n",
    "            success = (successfulFormat + \"PASSED\") if response == expectedCode else (failureFormat + \"FAILED\")\n",
    "            print('\\t' + test, success + bformat.CLOSE, response, 'received, ', expectedCode, \"expected \")"
   ]
  },
  {
   "cell_type": "code",
   "execution_count": 226,
   "metadata": {},
   "outputs": [
    {
     "data": {
      "text/plain": [
       "<coroutine object run at 0x10bd4aa40>"
      ]
     },
     "execution_count": 226,
     "metadata": {},
     "output_type": "execute_result"
    }
   ],
   "source": [
    "testFiles = retrieveTestFiles()\n",
    "run(testFiles)"
   ]
  },
  {
   "cell_type": "code",
   "execution_count": 166,
   "metadata": {},
   "outputs": [
    {
     "data": {
      "text/plain": [
       "' Example Structure\\n\\n{\\n    \"execute\": {\\n        \"<url>:<port?>/<api directory>/<endpoint>\": {\\n            \"<testname>\": {\\n                \"operation\": \"GET\",\\n                \"given\": { \"item1\": \"thing\", \"item2\": 1}, \\n                \"expected\":{\"item1\": \"returned\"}\\n            }, \\n            \"<testname2>\": {\\n                \"operation\": \"POST\",\\n                \"given\": {\"item1\": \"thing\", \"item2\": 1}, \\n                \"expected\":{\"item1\": \"returned\"}\\n            }\\n        }, \\n        \"<url>:<port?>/<api directory>/<endpoint2>\": {\\n             \"<testname1>\": {\\n                \"operation\": \"PUT\",\\n                \"given\": { \"item1\": \"thing\", \"item2\": 1}, \\n                \"expected\":{\"item1\": \"returned\"}\\n            }, \\n            \"<testname2>\": {\\n                \"operation\": \"DELETE\",\\n                \"given\": {\"item1\": \"thing\", \"item2\": 1}, \\n                \"expected\":{\"item1\": \"returned\"}\\n            }\\n        }\\n    }, \\n    \"skip\": {\\n        \"<url>:<port?>/<api directory>/<endpoint3>\": {\\n            \"<testname>\": {\\n                \"operation\": \"GET\",\\n                \"given\": { \"item1\": \"thing\", \"item2\": 1}, \\n                \"expected\":{\"item1\": \"returned\"}\\n            }, \\n            \"<testname2>\": {\\n                \"operation\": \"POST\",\\n                \"given\": {\"item1\": \"thing\", \"item2\": 1}, \\n                \"expected\":{\"item1\": \"returned\"}\\n            }\\n        }\\n    }\\n}\\n\\n'"
      ]
     },
     "execution_count": 166,
     "metadata": {},
     "output_type": "execute_result"
    }
   ],
   "source": [
    "''' Example Structure\n",
    "\n",
    "{\n",
    "    \"execute\": {\n",
    "        \"<url>:<port?>/<api directory>/<endpoint>\": {\n",
    "            \"<testname>\": {\n",
    "                \"operation\": \"GET\",\n",
    "                \"given\": { \"item1\": \"thing\", \"item2\": 1}, \n",
    "                \"expected\":{\"item1\": \"returned\"}\n",
    "            }, \n",
    "            \"<testname2>\": {\n",
    "                \"operation\": \"POST\",\n",
    "                \"given\": {\"item1\": \"thing\", \"item2\": 1}, \n",
    "                \"expected\":{\"item1\": \"returned\"}\n",
    "            }\n",
    "        }, \n",
    "        \"<url>:<port?>/<api directory>/<endpoint2>\": {\n",
    "             \"<testname1>\": {\n",
    "                \"operation\": \"PUT\",\n",
    "                \"given\": { \"item1\": \"thing\", \"item2\": 1}, \n",
    "                \"expected\":{\"item1\": \"returned\"}\n",
    "            }, \n",
    "            \"<testname2>\": {\n",
    "                \"operation\": \"DELETE\",\n",
    "                \"given\": {\"item1\": \"thing\", \"item2\": 1}, \n",
    "                \"expected\":{\"item1\": \"returned\"}\n",
    "            }\n",
    "        }\n",
    "    }, \n",
    "    \"skip\": {\n",
    "        \"<url>:<port?>/<api directory>/<endpoint3>\": {\n",
    "            \"<testname>\": {\n",
    "                \"operation\": \"GET\",\n",
    "                \"given\": { \"item1\": \"thing\", \"item2\": 1}, \n",
    "                \"expected\":{\"item1\": \"returned\"}\n",
    "            }, \n",
    "            \"<testname2>\": {\n",
    "                \"operation\": \"POST\",\n",
    "                \"given\": {\"item1\": \"thing\", \"item2\": 1}, \n",
    "                \"expected\":{\"item1\": \"returned\"}\n",
    "            }\n",
    "        }\n",
    "    }\n",
    "}\n",
    "\n",
    "'''"
   ]
  },
  {
   "cell_type": "code",
   "execution_count": 197,
   "metadata": {},
   "outputs": [],
   "source": [
    "class bformat:\n",
    "    HEADER = '\\033[95m'\n",
    "    NEUTRAL = '\\033[94m'\n",
    "    SUCCESS = '\\033[92m'\n",
    "    WARNING = '\\033[93m'\n",
    "    FAIL = '\\033[91m'\n",
    "    CLOSE = '\\033[0m'\n",
    "    BOLD = '\\033[1m'\n",
    "    UNDERLINE = '\\033[4m'\n",
    "    \n",
    "successfulFormat = bformat.SUCCESS\n",
    "failureFormat = bformat.FAIL\n",
    "newTestingFile = bformat.HEADER + bformat.BOLD\n",
    "endcomment = bformat.CLOSE"
   ]
  },
  {
   "cell_type": "code",
   "execution_count": null,
   "metadata": {},
   "outputs": [],
   "source": []
  },
  {
   "cell_type": "code",
   "execution_count": null,
   "metadata": {},
   "outputs": [],
   "source": []
  }
 ],
 "metadata": {
  "kernelspec": {
   "display_name": "Python [conda root]",
   "language": "python",
   "name": "conda-root-py"
  },
  "language_info": {
   "codemirror_mode": {
    "name": "ipython",
    "version": 3
   },
   "file_extension": ".py",
   "mimetype": "text/x-python",
   "name": "python",
   "nbconvert_exporter": "python",
   "pygments_lexer": "ipython3",
   "version": "3.6.3"
  }
 },
 "nbformat": 4,
 "nbformat_minor": 2
}
